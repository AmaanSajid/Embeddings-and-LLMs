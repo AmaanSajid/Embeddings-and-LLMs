{
  "nbformat": 4,
  "nbformat_minor": 0,
  "metadata": {
    "colab": {
      "provenance": []
    },
    "kernelspec": {
      "name": "python3",
      "display_name": "Python 3"
    },
    "language_info": {
      "name": "python"
    }
  },
  "cells": [
    {
      "cell_type": "code",
      "source": [
        "!pip install -U sentence-transformers\n"
      ],
      "metadata": {
        "id": "F0qahSF_CpCc"
      },
      "execution_count": null,
      "outputs": []
    },
    {
      "cell_type": "code",
      "source": [
        "from sentence_transformers import SentenceTransformer\n",
        "from sentence_transformers.util import cos_sim"
      ],
      "metadata": {
        "id": "iwYpP95JCVYc"
      },
      "execution_count": 19,
      "outputs": []
    },
    {
      "cell_type": "code",
      "source": [
        "model = SentenceTransformer(\"mixedbread-ai/mxbai-embed-large-v1\")"
      ],
      "metadata": {
        "id": "cYQPMpgCCVVE"
      },
      "execution_count": 25,
      "outputs": []
    },
    {
      "cell_type": "code",
      "source": [
        "!pip install pypdf"
      ],
      "metadata": {
        "id": "lR-Tu8m8F4B_"
      },
      "execution_count": null,
      "outputs": []
    },
    {
      "cell_type": "code",
      "source": [
        "!pip install PyPDF2"
      ],
      "metadata": {
        "colab": {
          "base_uri": "https://localhost:8080/"
        },
        "id": "cfkmQRaYHCS_",
        "outputId": "f347a9e3-63f7-482f-f105-5a7eef9362d9"
      },
      "execution_count": null,
      "outputs": [
        {
          "output_type": "stream",
          "name": "stdout",
          "text": [
            "Collecting PyPDF2\n",
            "  Downloading pypdf2-3.0.1-py3-none-any.whl (232 kB)\n",
            "\u001b[?25l     \u001b[90m━━━━━━━━━━━━━━━━━━━━━━━━━━━━━━━━━━━━━━━━\u001b[0m \u001b[32m0.0/232.6 kB\u001b[0m \u001b[31m?\u001b[0m eta \u001b[36m-:--:--\u001b[0m\r\u001b[2K     \u001b[91m━━━━━━━━━━━━━━━━━━━━━━━━━━\u001b[0m\u001b[90m╺\u001b[0m\u001b[90m━━━━━━━━━━━━━\u001b[0m \u001b[32m153.6/232.6 kB\u001b[0m \u001b[31m4.5 MB/s\u001b[0m eta \u001b[36m0:00:01\u001b[0m\r\u001b[2K     \u001b[90m━━━━━━━━━━━━━━━━━━━━━━━━━━━━━━━━━━━━━━━━\u001b[0m \u001b[32m232.6/232.6 kB\u001b[0m \u001b[31m4.5 MB/s\u001b[0m eta \u001b[36m0:00:00\u001b[0m\n",
            "\u001b[?25hInstalling collected packages: PyPDF2\n",
            "Successfully installed PyPDF2-3.0.1\n"
          ]
        }
      ]
    },
    {
      "cell_type": "code",
      "source": [
        "from PyPDF2 import PdfReader\n",
        "\n",
        "def extract_text_from_pdf(pdf_path):\n",
        "    with open(pdf_path, 'rb') as file:\n",
        "        reader = PdfReader(file)\n",
        "        num_pages = len(reader.pages)\n",
        "        text = ''\n",
        "        for page_number in range(num_pages):\n",
        "            page = reader.pages[page_number]\n",
        "            text += page.extract_text()\n",
        "        return text\n",
        "\n",
        "pdf_path = 'Data.pdf'\n",
        "extracted_text = extract_text_from_pdf(pdf_path)\n",
        "print(extracted_text)"
      ],
      "metadata": {
        "id": "3kDUI-jmFZtW"
      },
      "execution_count": null,
      "outputs": []
    },
    {
      "cell_type": "code",
      "source": [
        "query = 'Represent this sentence for searching relevant passages:'\n",
        "\n",
        "docs = [query,extracted_text]\n",
        "\n",
        "# 2. Encode\n",
        "embeddings = model.encode(docs)\n",
        "\n",
        "similarities = cos_sim(embeddings[0], embeddings[1:])\n",
        "print('similarities:', similarities)"
      ],
      "metadata": {
        "colab": {
          "base_uri": "https://localhost:8080/"
        },
        "id": "i2xVbqaEF_jH",
        "outputId": "46267b8b-25b0-4470-fc34-7abef1f0a63a"
      },
      "execution_count": null,
      "outputs": [
        {
          "output_type": "stream",
          "name": "stdout",
          "text": [
            "similarities: tensor([[0.5754]])\n"
          ]
        }
      ]
    },
    {
      "cell_type": "code",
      "source": [
        "!pip install langchain_openai\n",
        "!pip install langchain_core\n",
        "!pip install langchain_community\n",
        "!pip install python-dotenv\n"
      ],
      "metadata": {
        "id": "BLgqX2AfZrkh"
      },
      "execution_count": null,
      "outputs": []
    },
    {
      "cell_type": "code",
      "source": [
        "from langchain_community.document_loaders import TextLoader\n",
        "loader=TextLoader(\"dataset_1.txt\")\n",
        "text_documents=loader.load()\n",
        "text_documents"
      ],
      "metadata": {
        "id": "7PB-Xz1HH91n"
      },
      "execution_count": null,
      "outputs": []
    },
    {
      "cell_type": "code",
      "source": [
        "import os\n",
        "from dotenv import load_dotenv\n",
        "\n",
        "load_dotenv()\n",
        "api_key = os.getenv('')"
      ],
      "metadata": {
        "id": "rg3XQcI9ZpbQ"
      },
      "execution_count": 8,
      "outputs": []
    },
    {
      "cell_type": "code",
      "source": [
        "# web based loader\n",
        "from langchain_community.document_loaders import WebBaseLoader\n",
        "import bs4\n",
        "\n",
        "## load,chunk and index the content of the html page\n",
        "\n",
        "loader=WebBaseLoader(web_paths=(\"https://lilianweng.github.io/posts/2023-06-23-agent/\",),\n",
        "                     bs_kwargs=dict(parse_only=bs4.SoupStrainer(\n",
        "                         class_=(\"post-title\",\"post-content\",\"post-header\")\n",
        "\n",
        "                     )))\n",
        "\n",
        "text_documents=loader.load()"
      ],
      "metadata": {
        "id": "0bdgbdzucFVI"
      },
      "execution_count": 9,
      "outputs": []
    },
    {
      "cell_type": "code",
      "source": [
        "## Pdf reader\n",
        "!pip install pypdf\n",
        "from langchain_community.document_loaders import PyPDFLoader\n",
        "loader=PyPDFLoader('Data.pdf')\n",
        "docs=loader.load()"
      ],
      "metadata": {
        "id": "mmXptvV3dB0X"
      },
      "execution_count": null,
      "outputs": []
    },
    {
      "cell_type": "code",
      "source": [
        "!pip install langserve"
      ],
      "metadata": {
        "id": "QRhLIYhneQYi"
      },
      "execution_count": null,
      "outputs": []
    },
    {
      "cell_type": "code",
      "source": [
        "from langchain.text_splitter import RecursiveCharacterTextSplitter\n",
        "text_splitter=RecursiveCharacterTextSplitter(chunk_size=1000,chunk_overlap=200)\n",
        "documents=text_splitter.split_documents(docs)\n",
        "documents[:5]"
      ],
      "metadata": {
        "id": "I-voKAMqdqnP"
      },
      "execution_count": null,
      "outputs": []
    },
    {
      "cell_type": "code",
      "source": [
        "!pip install chromadb"
      ],
      "metadata": {
        "id": "8IcOtihrg_Mr"
      },
      "execution_count": null,
      "outputs": []
    },
    {
      "cell_type": "code",
      "source": [
        "from langchain.embeddings import HuggingFaceEmbeddings\n",
        "from langchain_community.vectorstores import Chroma\n",
        "\n",
        "embeddings = HuggingFaceEmbeddings(model_name=\"sentence-transformers/all-MiniLM-L6-v2\")\n",
        "db = Chroma.from_documents(documents, embeddings)"
      ],
      "metadata": {
        "id": "MR6cS1FUf5_j"
      },
      "execution_count": 30,
      "outputs": []
    },
    {
      "cell_type": "code",
      "source": [
        "query = \"which college has he completed his bachelors from\"\n",
        "retireved_results=db.similarity_search(query)\n",
        "print(retireved_results[0].page_content)"
      ],
      "metadata": {
        "colab": {
          "base_uri": "https://localhost:8080/"
        },
        "id": "zdDdrg6qePHc",
        "outputId": "8f4882a5-c002-45ac-c14d-4cdb8894dedf"
      },
      "execution_count": 32,
      "outputs": [
        {
          "output_type": "stream",
          "name": "stdout",
          "text": [
            "Currently I am pursing my CISE Senior Certification Program from University of Florida. This program \n",
            "has given me the importance of pursing advanced education and the diversity in the field of \n",
            "computer science. I am working on Advanced Data Structures and Advanced Analysis of Algorithms \n",
            "courses which have helped me deepen my understanding of complex computational problems and \n",
            "refine my skills in designing efficient algorithms and data structures to solve them.    \n",
            "From the program at Northeastern University, I anticipate improving my skills in the fields of Data \n",
            "Science and Artificial intelligence gaining advanced knowledge through world -class exposure, faculty, \n",
            "and facilities at your esteemed university by establis hing a more profound understanding of the \n",
            "industry dynamics. With these skills and knowledge, I aim to be a closer part of the ever -evolving \n",
            "world of technology and computer science. A Master's degree from Northeastern University,\n"
          ]
        }
      ]
    },
    {
      "cell_type": "code",
      "source": [],
      "metadata": {
        "id": "jy-GfPVLfYNu"
      },
      "execution_count": null,
      "outputs": []
    }
  ]
}